{
 "cells": [
  {
   "cell_type": "code",
   "execution_count": 1,
   "id": "b498a93f",
   "metadata": {},
   "outputs": [],
   "source": [
    "import MySQLdb"
   ]
  },
  {
   "cell_type": "markdown",
   "id": "c16cde64",
   "metadata": {},
   "source": [
    "### DB Connection"
   ]
  },
  {
   "cell_type": "code",
   "execution_count": 2,
   "id": "7675e8b1",
   "metadata": {},
   "outputs": [],
   "source": [
    "# DB Connection\n",
    "myvars = {}\n",
    "with open(\"../risaac-mysql-passwordword\") as myfile:\n",
    "    for line in myfile:\n",
    "        name, var = line.partition(\":\")[::2]\n",
    "        myvars[name.strip()] = var.strip()"
   ]
  },
  {
   "cell_type": "code",
   "execution_count": 3,
   "id": "5e1439b9",
   "metadata": {},
   "outputs": [],
   "source": [
    "myvars['DB databasename'] = 'I501saptpurkFall22grp_06_db'"
   ]
  },
  {
   "cell_type": "code",
   "execution_count": 4,
   "id": "28f79dfc",
   "metadata": {},
   "outputs": [
    {
     "data": {
      "text/plain": [
       "{'DB username': 'risaac',\n",
       " 'DB databasename': 'I501saptpurkFall22grp_06_db',\n",
       " 'DB password': 'denounced eliding lushness'}"
      ]
     },
     "execution_count": 4,
     "metadata": {},
     "output_type": "execute_result"
    }
   ],
   "source": [
    "myvars"
   ]
  },
  {
   "cell_type": "code",
   "execution_count": 5,
   "id": "7b9d88ff",
   "metadata": {},
   "outputs": [],
   "source": [
    "conn = MySQLdb.connect(host=\"localhost\", user=myvars['DB username'], passwd=myvars['DB password'], db=myvars['DB databasename'])\n",
    "cursor = conn.cursor()"
   ]
  },
  {
   "cell_type": "markdown",
   "id": "e0782d0a",
   "metadata": {},
   "source": [
    "### Primary Key"
   ]
  },
  {
   "cell_type": "code",
   "execution_count": 12,
   "id": "5906151d",
   "metadata": {},
   "outputs": [],
   "source": [
    "cursor.execute('ALTER TABLE P_DEMO \\\n",
    "            ADD CONSTRAINT PK_P_DEMO PRIMARY KEY (SEQN);');"
   ]
  },
  {
   "cell_type": "code",
   "execution_count": 13,
   "id": "06db6597",
   "metadata": {},
   "outputs": [],
   "source": [
    "cursor.execute('ALTER TABLE P_HIQ \\\n",
    "            ADD CONSTRAINT PK_P_HIQ PRIMARY KEY (hiq_key);');"
   ]
  },
  {
   "cell_type": "code",
   "execution_count": 14,
   "id": "90ec4ba2",
   "metadata": {},
   "outputs": [],
   "source": [
    "cursor.execute('ALTER TABLE P_HUQ \\\n",
    "            ADD CONSTRAINT PK_P_HUQ PRIMARY KEY (huq_key);');"
   ]
  },
  {
   "cell_type": "markdown",
   "id": "2d1b83fc",
   "metadata": {},
   "source": [
    "### Foreign Key"
   ]
  },
  {
   "cell_type": "code",
   "execution_count": 16,
   "id": "779143cb",
   "metadata": {},
   "outputs": [],
   "source": [
    "cursor.execute('ALTER TABLE P_HIQ \\\n",
    "            ADD CONSTRAINT FK_SEQN_P_HIQ_SEQN_P_DEMO FOREIGN KEY (SEQN) REFERENCES P_DEMO(SEQN);');\n"
   ]
  },
  {
   "cell_type": "code",
   "execution_count": 17,
   "id": "b7244ce1",
   "metadata": {},
   "outputs": [],
   "source": [
    "cursor.execute('ALTER TABLE P_HUQ \\\n",
    "            ADD CONSTRAINT FK_SEQN_P_HUQ_SEQN_P_DEMO FOREIGN KEY (SEQN) REFERENCES P_DEMO(SEQN);');\n"
   ]
  }
 ],
 "metadata": {
  "kernelspec": {
   "display_name": "Python 3 (ipykernel)",
   "language": "python",
   "name": "python3"
  },
  "language_info": {
   "codemirror_mode": {
    "name": "ipython",
    "version": 3
   },
   "file_extension": ".py",
   "mimetype": "text/x-python",
   "name": "python",
   "nbconvert_exporter": "python",
   "pygments_lexer": "ipython3",
   "version": "3.10.6"
  }
 },
 "nbformat": 4,
 "nbformat_minor": 5
}
