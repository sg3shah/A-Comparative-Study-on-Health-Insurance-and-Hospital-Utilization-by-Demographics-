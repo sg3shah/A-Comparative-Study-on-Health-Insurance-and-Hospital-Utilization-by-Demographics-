{
 "cells": [
  {
   "cell_type": "code",
   "execution_count": 1,
   "id": "620215b8",
   "metadata": {},
   "outputs": [],
   "source": [
    "import pandas as pd"
   ]
  },
  {
   "cell_type": "code",
   "execution_count": 7,
   "id": "c5d68f3c",
   "metadata": {},
   "outputs": [],
   "source": [
    "df = pd.read_sas(\"P_DEMO.XPT\")\n",
    "df.to_csv(\"P_DEMO.csv\", index = False)"
   ]
  },
  {
   "cell_type": "code",
   "execution_count": 8,
   "id": "371e11e3",
   "metadata": {},
   "outputs": [],
   "source": [
    "df = pd.read_sas(\"P_HIQ.XPT\")\n",
    "df.to_csv(\"P_HIQ.csv\", index = False)"
   ]
  },
  {
   "cell_type": "code",
   "execution_count": 9,
   "id": "06c49e16",
   "metadata": {},
   "outputs": [],
   "source": [
    "df = pd.read_sas(\"P_HUQ.XPT\")\n",
    "df.to_csv(\"P_HUQ.csv\", index = False)"
   ]
  }
 ],
 "metadata": {
  "kernelspec": {
   "display_name": "Python 3 (ipykernel)",
   "language": "python",
   "name": "python3"
  },
  "language_info": {
   "codemirror_mode": {
    "name": "ipython",
    "version": 3
   },
   "file_extension": ".py",
   "mimetype": "text/x-python",
   "name": "python",
   "nbconvert_exporter": "python",
   "pygments_lexer": "ipython3",
   "version": "3.10.6"
  }
 },
 "nbformat": 4,
 "nbformat_minor": 5
}
