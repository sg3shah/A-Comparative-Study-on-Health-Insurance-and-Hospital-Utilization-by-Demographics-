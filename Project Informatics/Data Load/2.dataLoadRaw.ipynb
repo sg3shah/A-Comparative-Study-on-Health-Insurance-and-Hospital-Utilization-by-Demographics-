{
 "cells": [
  {
   "cell_type": "code",
   "execution_count": 148,
   "id": "7993b2a6",
   "metadata": {},
   "outputs": [],
   "source": [
    "import pandas as pd\n",
    "import MySQLdb\n",
    "from sqlalchemy import create_engine"
   ]
  },
  {
   "cell_type": "markdown",
   "id": "2b93cda8",
   "metadata": {},
   "source": [
    "### DB Connection"
   ]
  },
  {
   "cell_type": "code",
   "execution_count": 149,
   "id": "956c6f1c",
   "metadata": {},
   "outputs": [],
   "source": [
    "# DB Connection\n",
    "myvars = {}\n",
    "with open(\"../risaac-mysql-password\") as myfile:\n",
    "    for line in myfile:\n",
    "        name, var = line.partition(\":\")[::2]\n",
    "        myvars[name.strip()] = var.strip()"
   ]
  },
  {
   "cell_type": "code",
   "execution_count": 150,
   "id": "bcdee3c3",
   "metadata": {},
   "outputs": [],
   "source": [
    "myvars['DB databasename'] = 'I501saptpurkFall22grp_06_db'"
   ]
  },
  {
   "cell_type": "code",
   "execution_count": 151,
   "id": "7aeeab23",
   "metadata": {},
   "outputs": [
    {
     "data": {
      "text/plain": [
       "{'DB username': 'risaac',\n",
       " 'DB databasename': 'I501saptpurkFall22grp_06_db',\n",
       " 'DB password': 'denounced eliding lushness'}"
      ]
     },
     "execution_count": 151,
     "metadata": {},
     "output_type": "execute_result"
    }
   ],
   "source": [
    "myvars"
   ]
  },
  {
   "cell_type": "code",
   "execution_count": 152,
   "id": "2df9109e",
   "metadata": {},
   "outputs": [],
   "source": [
    "my_conn = create_engine(f\"mysql+mysqldb://{myvars['DB username']}:{myvars['DB password']}@localhost/{myvars['DB databasename']}\") #fill details"
   ]
  },
  {
   "cell_type": "markdown",
   "id": "c0330e7e",
   "metadata": {},
   "source": [
    "### P_DEMO"
   ]
  },
  {
   "cell_type": "code",
   "execution_count": 153,
   "id": "3999913e",
   "metadata": {},
   "outputs": [],
   "source": [
    "df_p_demo = pd.read_csv('P_DEMO.csv')"
   ]
  },
  {
   "cell_type": "code",
   "execution_count": 154,
   "id": "f3bfcc93",
   "metadata": {
    "scrolled": true
   },
   "outputs": [
    {
     "data": {
      "text/plain": [
       "(15560, 29)"
      ]
     },
     "execution_count": 154,
     "metadata": {},
     "output_type": "execute_result"
    }
   ],
   "source": [
    "df_p_demo.shape"
   ]
  },
  {
   "cell_type": "code",
   "execution_count": 155,
   "id": "e9fc36a8",
   "metadata": {
    "scrolled": true
   },
   "outputs": [
    {
     "name": "stdout",
     "output_type": "stream",
     "text": [
      "============================\n",
      "============================\n",
      "         SEQN        \n",
      "[109263. 109264. 109265. 109266. 109267. 109268. 109269. 109270. 109271.\n",
      " 109272. 109273. 109274. 109275. 109276. 109277.]\n",
      "============================\n",
      "============================\n",
      "         SDDSRVYR        \n",
      "[66.]\n",
      "============================\n",
      "============================\n",
      "         RIDSTATR        \n",
      "[2. 1.]\n",
      "============================\n",
      "============================\n",
      "         RIAGENDR        \n",
      "[1. 2.]\n",
      "============================\n",
      "============================\n",
      "         RIDAGEYR        \n",
      "[2.00000000e+00 1.30000000e+01 2.90000000e+01 2.10000000e+01\n",
      " 1.80000000e+01 1.10000000e+01 4.90000000e+01 5.39760535e-79\n",
      " 3.60000000e+01 6.80000000e+01 6.00000000e+00 1.20000000e+01\n",
      " 1.70000000e+01 7.60000000e+01 5.20000000e+01]\n",
      "============================\n",
      "============================\n",
      "         RIDAGEMN        \n",
      "[nan  3.  2.  1. 10. 23.  8.  9.  5. 16. 21. 12. 11. 22.  7.]\n",
      "============================\n",
      "============================\n",
      "         RIDRETH1        \n",
      "[5. 1. 3. 2. 4.]\n",
      "============================\n",
      "============================\n",
      "         RIDRETH3        \n",
      "[6. 1. 3. 2. 4. 7.]\n",
      "============================\n",
      "============================\n",
      "         RIDEXMON        \n",
      "[ 2. nan  1.]\n",
      "============================\n",
      "============================\n",
      "         DMDBORN4        \n",
      "[ 1.  2. 77. 99.]\n",
      "============================\n",
      "============================\n",
      "         DMDYRUSZ        \n",
      "[nan  2.  3.  4.  1. 99. 77.]\n",
      "============================\n",
      "============================\n",
      "         DMDEDUC2        \n",
      "[nan  5.  4.  2.  3.  1.  9.  7.]\n",
      "============================\n",
      "============================\n",
      "         DMDMARTZ        \n",
      "[nan  3.  1.  2. 77. 99.]\n",
      "============================\n",
      "============================\n",
      "         RIDEXPRG        \n",
      "[nan  2.  3.  1.]\n",
      "============================\n",
      "============================\n",
      "         SIALANG        \n",
      "[1. 2.]\n",
      "============================\n",
      "============================\n",
      "         SIAPROXY        \n",
      "[1. 2.]\n",
      "============================\n",
      "============================\n",
      "         SIAINTRP        \n",
      "[2. 1.]\n",
      "============================\n",
      "============================\n",
      "         FIALANG        \n",
      "[ 1.  2. nan]\n",
      "============================\n",
      "============================\n",
      "         FIAPROXY        \n",
      "[ 2. nan  1.]\n",
      "============================\n",
      "============================\n",
      "         FIAINTRP        \n",
      "[ 2. nan  1.]\n",
      "============================\n",
      "============================\n",
      "         MIALANG        \n",
      "[nan  1.  2.]\n",
      "============================\n",
      "============================\n",
      "         MIAPROXY        \n",
      "[nan  2.  1.]\n",
      "============================\n",
      "============================\n",
      "         MIAINTRP        \n",
      "[nan  2.  1.]\n",
      "============================\n",
      "============================\n",
      "         AIALANGA        \n",
      "[nan  1.  2.  3.]\n",
      "============================\n",
      "============================\n",
      "         WTINTPRP        \n",
      "[ 7891.762435 11689.747264 16273.825939  7825.646112 26379.991724\n",
      " 19639.221008  5906.250521  4613.057696  8481.589837  7037.380216\n",
      " 20171.847767  7227.993241 16372.53397   1652.540459 16385.743307]\n",
      "============================\n",
      "============================\n",
      "         WTMECPRP        \n",
      "[8.95181557e+03 1.22711570e+04 1.66587642e+04 8.15496819e+03\n",
      " 5.39760535e-79 6.84827178e+03 4.88693038e+03 8.65873287e+03\n",
      " 7.87277623e+03 2.21635969e+04 7.80160022e+03 1.76103268e+04\n",
      " 1.81057306e+03 1.75194181e+04 1.09587083e+04]\n",
      "============================\n",
      "============================\n",
      "         SDMVPSU        \n",
      "[3. 1. 2.]\n",
      "============================\n",
      "============================\n",
      "         SDMVSTRA        \n",
      "[156. 155. 157. 168. 152. 150. 167. 164. 171. 161. 169. 149. 154. 163.\n",
      " 151.]\n",
      "============================\n",
      "============================\n",
      "         INDFMPIR        \n",
      "[4.66000000e+00 8.30000000e-01 3.06000000e+00 5.00000000e+00\n",
      " 1.66000000e+00 9.60000000e-01 1.88000000e+00            nan\n",
      " 7.30000000e-01 1.20000000e+00 3.74000000e+00 5.39760535e-79\n",
      " 1.35000000e+00 1.19000000e+00 1.71000000e+00]\n"
     ]
    }
   ],
   "source": [
    "# check for unique values in each column in demographics data\n",
    "for col in df_p_demo.columns:\n",
    "    print(\"============================\")\n",
    "    print(\"============================\")\n",
    "    print(\"        \", col, \"       \")\n",
    "    print(df_p_demo[col].unique()[:15])"
   ]
  },
  {
   "cell_type": "code",
   "execution_count": 156,
   "id": "b8fb1c62",
   "metadata": {},
   "outputs": [],
   "source": [
    "cols = ['SEQN'\n",
    "         ,'SDDSRVYR'\n",
    "         ,'RIDSTATR'\n",
    "         ,'RIAGENDR'\n",
    "#          ,'RIDAGEYR' -- inconsistent data points ex: 5.39760535e-79\n",
    "#          ,'RIDAGEMN' -- inconsistent data points ex: 5.39760535e-79\n",
    "         ,'RIDRETH1'\n",
    "         ,'RIDRETH3'\n",
    "         ,'RIDEXMON'\n",
    "         ,'DMDBORN4'\n",
    "         ,'DMDYRUSZ'\n",
    "         ,'DMDEDUC2'\n",
    "         ,'DMDMARTZ'\n",
    "         ,'RIDEXPRG'\n",
    "         ,'SIALANG'\n",
    "         ,'SIAPROXY'\n",
    "         ,'SIAINTRP'\n",
    "         ,'FIALANG'\n",
    "         ,'FIAPROXY'\n",
    "         ,'FIAINTRP'\n",
    "         ,'MIALANG'\n",
    "         ,'MIAPROXY'\n",
    "         ,'MIAINTRP'\n",
    "         ,'AIALANGA'\n",
    "         ,'SDMVPSU'\n",
    "         ,'SDMVSTRA']\n",
    "\n",
    "df_p_demo[cols] = df_p_demo[cols].astype(\"Int32\")"
   ]
  },
  {
   "cell_type": "code",
   "execution_count": 157,
   "id": "19ab4df9",
   "metadata": {},
   "outputs": [],
   "source": [
    "cols = ['RIDAGEYR'\n",
    "        ,'RIDAGEMN'\n",
    "       ]\n",
    "\n",
    "df_p_demo[cols] = df_p_demo[cols].round().astype(\"Int32\")"
   ]
  },
  {
   "cell_type": "code",
   "execution_count": 158,
   "id": "46a07c49",
   "metadata": {},
   "outputs": [],
   "source": [
    "cols = ['WTINTPRP'\n",
    "         ,'WTMECPRP'\n",
    "         ,'INDFMPIR']\n",
    "\n",
    "df_p_demo[cols] = df_p_demo[cols].round(2).astype(float)"
   ]
  },
  {
   "cell_type": "code",
   "execution_count": 159,
   "id": "530f51c8",
   "metadata": {},
   "outputs": [],
   "source": [
    "df_p_demo = df_p_demo.replace({np.nan:None})"
   ]
  },
  {
   "cell_type": "code",
   "execution_count": 160,
   "id": "9c6479eb",
   "metadata": {},
   "outputs": [
    {
     "data": {
      "text/plain": [
       "15560"
      ]
     },
     "execution_count": 160,
     "metadata": {},
     "output_type": "execute_result"
    }
   ],
   "source": [
    "name = \"P_DEMO\"\n",
    "df_p_demo.to_sql(name, con = my_conn, if_exists = 'replace', index = False)"
   ]
  },
  {
   "cell_type": "markdown",
   "id": "1bf0e92f",
   "metadata": {},
   "source": [
    "### P_HIQ"
   ]
  },
  {
   "cell_type": "code",
   "execution_count": 161,
   "id": "f4bec0a5",
   "metadata": {},
   "outputs": [],
   "source": [
    "df_p_hiq = pd.read_csv('P_HIQ.csv')"
   ]
  },
  {
   "cell_type": "code",
   "execution_count": 162,
   "id": "67d74c66",
   "metadata": {},
   "outputs": [
    {
     "data": {
      "text/plain": [
       "(15560, 14)"
      ]
     },
     "execution_count": 162,
     "metadata": {},
     "output_type": "execute_result"
    }
   ],
   "source": [
    "df_p_hiq.shape"
   ]
  },
  {
   "cell_type": "code",
   "execution_count": 163,
   "id": "98ce2efe",
   "metadata": {},
   "outputs": [
    {
     "name": "stdout",
     "output_type": "stream",
     "text": [
      "============================\n",
      "============================\n",
      "         SEQN        \n",
      "[109263. 109264. 109265. ... 124820. 124821. 124822.]\n",
      "============================\n",
      "============================\n",
      "         HIQ011        \n",
      "[1. 2. 9. 7.]\n",
      "============================\n",
      "============================\n",
      "         HIQ032A        \n",
      "[ 1. nan 99. 77.]\n",
      "============================\n",
      "============================\n",
      "         HIQ032B        \n",
      "[nan  2.]\n",
      "============================\n",
      "============================\n",
      "         HIQ032C        \n",
      "[nan  3.]\n",
      "============================\n",
      "============================\n",
      "         HIQ032D        \n",
      "[nan  4.]\n",
      "============================\n",
      "============================\n",
      "         HIQ032E        \n",
      "[nan  5.]\n",
      "============================\n",
      "============================\n",
      "         HIQ032H        \n",
      "[nan  8.]\n",
      "============================\n",
      "============================\n",
      "         HIQ032I        \n",
      "[nan  9.]\n",
      "============================\n",
      "============================\n",
      "         HIQ032J        \n",
      "[nan 10.]\n",
      "============================\n",
      "============================\n",
      "         HIQ260        \n",
      "[nan  1.  2.  7.  9.]\n",
      "============================\n",
      "============================\n",
      "         HIQ105        \n",
      "[nan  2.  1.]\n",
      "============================\n",
      "============================\n",
      "         HIQ270        \n",
      "[ 1.  2. nan  9.  7.]\n",
      "============================\n",
      "============================\n",
      "         HIQ210        \n",
      "[ 2.  1. nan  9.  7.]\n"
     ]
    }
   ],
   "source": [
    "# check for unique values in each column in demographics data\n",
    "for col in df_p_hiq.columns:\n",
    "    print(\"============================\")\n",
    "    print(\"============================\")\n",
    "    print(\"        \", col, \"       \")\n",
    "    print(df_p_hiq[col].unique())"
   ]
  },
  {
   "cell_type": "code",
   "execution_count": 164,
   "id": "ef45bb35",
   "metadata": {},
   "outputs": [],
   "source": [
    "cols = ['SEQN'\n",
    "       ,'HIQ011'\n",
    "       ,'HIQ032A'\n",
    "       ,'HIQ032B'\n",
    "       ,'HIQ032C'\n",
    "       ,'HIQ032D'\n",
    "       ,'HIQ032E'\n",
    "       ,'HIQ032H'\n",
    "       ,'HIQ032I'\n",
    "       ,'HIQ032J'\n",
    "       ,'HIQ260'\n",
    "       ,'HIQ105'\n",
    "       ,'HIQ270'\n",
    "       ,'HIQ210']\n",
    "\n",
    "df_p_hiq[cols] = df_p_hiq[cols].astype(\"Int32\")"
   ]
  },
  {
   "cell_type": "code",
   "execution_count": 165,
   "id": "b7eb824b",
   "metadata": {},
   "outputs": [],
   "source": [
    "df_p_hiq = df_p_hiq.replace({np.nan:None})"
   ]
  },
  {
   "cell_type": "code",
   "execution_count": 166,
   "id": "c72f72b1",
   "metadata": {},
   "outputs": [
    {
     "data": {
      "text/plain": [
       "15560"
      ]
     },
     "execution_count": 166,
     "metadata": {},
     "output_type": "execute_result"
    }
   ],
   "source": [
    "name = \"P_HIQ\"\n",
    "df_p_hiq.to_sql(name, con = my_conn, if_exists = 'replace', index_label = \"hiq_key\")"
   ]
  },
  {
   "cell_type": "markdown",
   "id": "8de35f4d",
   "metadata": {},
   "source": [
    "### P_HUQ"
   ]
  },
  {
   "cell_type": "code",
   "execution_count": 167,
   "id": "51c5f1ec",
   "metadata": {},
   "outputs": [],
   "source": [
    "df_p_huq = pd.read_csv('P_HUQ.csv')"
   ]
  },
  {
   "cell_type": "code",
   "execution_count": 168,
   "id": "de5a38da",
   "metadata": {},
   "outputs": [
    {
     "data": {
      "text/plain": [
       "(15560, 7)"
      ]
     },
     "execution_count": 168,
     "metadata": {},
     "output_type": "execute_result"
    }
   ],
   "source": [
    "df_p_huq.shape"
   ]
  },
  {
   "cell_type": "code",
   "execution_count": 169,
   "id": "a8a7bf75",
   "metadata": {},
   "outputs": [
    {
     "name": "stdout",
     "output_type": "stream",
     "text": [
      "============================\n",
      "============================\n",
      "         SEQN        \n",
      "[109263. 109264. 109265. ... 124820. 124821. 124822.]\n",
      "============================\n",
      "============================\n",
      "         HUQ010        \n",
      "[1. 2. 3. 4. 5. 7. 9.]\n",
      "============================\n",
      "============================\n",
      "         HUQ030        \n",
      "[1. 2. 3. 7. 9.]\n",
      "============================\n",
      "============================\n",
      "         HUQ051        \n",
      "[1.00000000e+00 5.39760535e-79 2.00000000e+00 4.00000000e+00\n",
      " 3.00000000e+00 8.00000000e+00 5.00000000e+00 6.00000000e+00\n",
      " 7.00000000e+00 9.90000000e+01]\n",
      "============================\n",
      "============================\n",
      "         HUD062        \n",
      "[           nan 2.00000000e+00 1.00000000e+00 3.00000000e+00\n",
      " 5.39760535e-79 9.90000000e+01 4.00000000e+00]\n",
      "============================\n",
      "============================\n",
      "         HUQ071        \n",
      "[2. 1. 9.]\n",
      "============================\n",
      "============================\n",
      "         HUQ090        \n",
      "[nan  1.  2.  9.  7.]\n"
     ]
    }
   ],
   "source": [
    "# check for unique values in each column in demographics data\n",
    "for col in df_p_huq.columns:\n",
    "    print(\"============================\")\n",
    "    print(\"============================\")\n",
    "    print(\"        \", col, \"       \")\n",
    "    print(df_p_huq[col].unique())"
   ]
  },
  {
   "cell_type": "code",
   "execution_count": 170,
   "id": "0c3a179d",
   "metadata": {},
   "outputs": [],
   "source": [
    "cols = ['SEQN'\n",
    "        ,'HUQ010'\n",
    "        ,'HUQ030'\n",
    "        ,'HUQ071'\n",
    "        ,'HUQ090'\n",
    "       ]\n",
    "\n",
    "df_p_huq[cols] = df_p_huq[cols].astype(\"Int32\")"
   ]
  },
  {
   "cell_type": "code",
   "execution_count": 171,
   "id": "fc1e7f96",
   "metadata": {},
   "outputs": [],
   "source": [
    "cols = ['HUQ051'\n",
    "       ,'HUD062']\n",
    "\n",
    "df_p_huq[cols] = df_p_huq[cols].round().astype(\"Int32\")"
   ]
  },
  {
   "cell_type": "code",
   "execution_count": 172,
   "id": "de141d8f",
   "metadata": {},
   "outputs": [],
   "source": [
    "df_p_huq = df_p_huq.replace({np.nan:None})"
   ]
  },
  {
   "cell_type": "code",
   "execution_count": 173,
   "id": "d628adb0",
   "metadata": {},
   "outputs": [
    {
     "data": {
      "text/plain": [
       "15560"
      ]
     },
     "execution_count": 173,
     "metadata": {},
     "output_type": "execute_result"
    }
   ],
   "source": [
    "name = \"P_HUQ\"\n",
    "df_p_huq.to_sql(name, con = my_conn, if_exists = 'replace', index_label = \"huq_key\")"
   ]
  },
  {
   "cell_type": "code",
   "execution_count": null,
   "id": "3d59dfeb",
   "metadata": {},
   "outputs": [],
   "source": []
  }
 ],
 "metadata": {
  "kernelspec": {
   "display_name": "Python 3 (ipykernel)",
   "language": "python",
   "name": "python3"
  },
  "language_info": {
   "codemirror_mode": {
    "name": "ipython",
    "version": 3
   },
   "file_extension": ".py",
   "mimetype": "text/x-python",
   "name": "python",
   "nbconvert_exporter": "python",
   "pygments_lexer": "ipython3",
   "version": "3.10.6"
  }
 },
 "nbformat": 4,
 "nbformat_minor": 5
}
